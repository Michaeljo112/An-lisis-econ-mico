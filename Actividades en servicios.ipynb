{
 "cells": [
  {
   "cell_type": "code",
   "execution_count": 36,
   "id": "32445d0f",
   "metadata": {},
   "outputs": [],
   "source": [
    "import pandas as pd\n",
    "import numpy as np"
   ]
  },
  {
   "cell_type": "markdown",
   "id": "47051fd9",
   "metadata": {},
   "source": [
    "# Tasas de crecimiento anual"
   ]
  },
  {
   "cell_type": "code",
   "execution_count": 92,
   "id": "cc75c87b",
   "metadata": {},
   "outputs": [],
   "source": [
    "# Cargar datos\n",
    "vt_2019, vt_2020 = pd.read_excel('Data/v_totales.xlsx', sheet_name='2019', engine='openpyxl', na_values='nan'), pd.read_excel('Data/v_totales.xlsx', sheet_name='2020', engine='openpyxl', na_values='nan')\n",
    "# Filtar datos para el sector servicios \n",
    "vt_2020, vt_2020 = vt_2019[vt_2019['Sector'] == 'Servicios'], vt_2020[vt_2020['Sector'] == 'Servicios']\n",
    "# Sumar todas las provincias\n",
    "vt_2019['Total nacional, 2019'] = vt_2019.iloc[:, 2:].apply(lambda row: np.nansum(row), axis=1)\n",
    "vt_2020['Total nacional, 2020'] = vt_2020.iloc[:, 2:].apply(lambda row: np.nansum(row), axis=1)\n",
    "# Unir datos \n",
    "vt = vt_2019.merge(vt_2020, on=['Sector', 'Actividad'])\n",
    "vt = vt[['Sector', 'Actividad', 'Total nacional, 2019', 'Total nacional, 2020']]\n",
    "# Obetener tasas de crecimiento y ordenar por variación\n",
    "vt['Tasa de crecimiento'] = (vt['Total nacional, 2020']/vt['Total nacional, 2019'] - 1)*100\n",
    "vt['Participación (% del total ventas nacionales), 2019'] = 100*vt['Total nacional, 2019']/vt['Total nacional, 2019'].sum()\n",
    "vt['Participación (% del total ventas nacionales), 2020'] = 100*vt['Total nacional, 2020']/vt['Total nacional, 2020'].sum()"
   ]
  },
  {
   "cell_type": "code",
   "execution_count": 90,
   "id": "1631ee0f",
   "metadata": {},
   "outputs": [],
   "source": [
    "# Obtener una columna con los códigos CIIU\n",
    "vt['Código (división según CIIU, INEC)'] = vt['Actividad'].str.slice(stop=4)\n",
    "# Obtener una columna con la descripción del código CIIU\n",
    "vt['Descripción de actividad'] = vt['Actividad'].str.slice(start=4)\n",
    "# Quitar la columna que tiene unido el código y la descripción\n",
    "vt = vt.drop(columns=['Actividad'])\n",
    "# Reorndenar columnas\n",
    "vt = vt[['Sector', 'Código (división según CIIU, INEC)', 'Descripción de actividad', 'Participación (% del total ventas nacionales), 2019', 'Participación (% del total ventas nacionales), 2020', 'Tasa de crecimiento']]\n",
    "vt.to_excel('Data/activdades.xlsx', index=False)"
   ]
  },
  {
   "cell_type": "markdown",
   "id": "1751303a",
   "metadata": {},
   "source": [
    "# Tasa de crecimiento global ventas totales"
   ]
  },
  {
   "cell_type": "code",
   "execution_count": 94,
   "id": "d81e9220",
   "metadata": {},
   "outputs": [
    {
     "data": {
      "text/plain": [
       "-0.1663003790921317"
      ]
     },
     "execution_count": 94,
     "metadata": {},
     "output_type": "execute_result"
    }
   ],
   "source": [
    "vt['Total nacional, 2020'].sum()/vt['Total nacional, 2019'].sum() - 1"
   ]
  }
 ],
 "metadata": {
  "kernelspec": {
   "display_name": "Geo",
   "language": "python",
   "name": "geo"
  },
  "language_info": {
   "codemirror_mode": {
    "name": "ipython",
    "version": 3
   },
   "file_extension": ".py",
   "mimetype": "text/x-python",
   "name": "python",
   "nbconvert_exporter": "python",
   "pygments_lexer": "ipython3",
   "version": "3.9.1"
  }
 },
 "nbformat": 4,
 "nbformat_minor": 5
}
